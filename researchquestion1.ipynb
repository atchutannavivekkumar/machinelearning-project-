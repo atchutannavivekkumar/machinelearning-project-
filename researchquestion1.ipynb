{
 "cells": [
  {
   "cell_type": "code",
   "execution_count": 27,
   "id": "68a7540b",
   "metadata": {},
   "outputs": [],
   "source": [
    "import numpy as np\n",
    "import pandas as pd\n",
    "import os\n"
   ]
  },
  {
   "cell_type": "code",
   "execution_count": null,
   "id": "79bb38b6",
   "metadata": {},
   "outputs": [
    {
     "name": "stdout",
     "output_type": "stream",
     "text": [
      "   Age  Gender Alcohol_consumption High_calories_foodconsumption_frequency  \\\n",
      "0   21  Female                  no                                      no   \n",
      "1   21  Female           Sometimes                                      no   \n",
      "2   23    Male          Frequently                                      no   \n",
      "3   27    Male          Frequently                                      no   \n",
      "4   22    Male           Sometimes                                      no   \n",
      "5   29    Male           Sometimes                                     yes   \n",
      "6   23  Female           Sometimes                                     yes   \n",
      "7   22    Male           Sometimes                                      no   \n",
      "8   24    Male          Frequently                                     yes   \n",
      "9   22    Male                  no                                     yes   \n",
      "\n",
      "   Vegetable_consumption_frequency  Avg_no_of_meals  \\\n",
      "0                              2.0              3.0   \n",
      "1                              3.0              3.0   \n",
      "2                              2.0              3.0   \n",
      "3                              3.0              3.0   \n",
      "4                              2.0              1.0   \n",
      "5                              2.0              3.0   \n",
      "6                              3.0              3.0   \n",
      "7                              2.0              3.0   \n",
      "8                              3.0              3.0   \n",
      "9                              2.0              3.0   \n",
      "\n",
      "  Calorie_consumption_monitoring Smoking_habits  Water_consumption  \\\n",
      "0                             no             no                2.0   \n",
      "1                            yes            yes                3.0   \n",
      "2                             no             no                2.0   \n",
      "3                             no             no                2.0   \n",
      "4                             no             no                2.0   \n",
      "5                             no             no                2.0   \n",
      "6                             no             no                2.0   \n",
      "7                             no             no                2.0   \n",
      "8                             no             no                2.0   \n",
      "9                             no             no                2.0   \n",
      "\n",
      "  Family_history  Physical_activity  Mobile_screentime  \\\n",
      "0            yes                0.0                1.0   \n",
      "1            yes                3.0                0.0   \n",
      "2            yes                2.0                1.0   \n",
      "3             no                2.0                0.0   \n",
      "4             no                0.0                0.0   \n",
      "5             no                0.0                0.0   \n",
      "6            yes                1.0                0.0   \n",
      "7             no                3.0                0.0   \n",
      "8            yes                1.0                1.0   \n",
      "9            yes                1.0                1.0   \n",
      "\n",
      "  Food_consumed_between_meals          Transpotation        obesity_level  \\\n",
      "0                   Sometimes  Public_Transportation        Normal_Weight   \n",
      "1                   Sometimes  Public_Transportation        Normal_Weight   \n",
      "2                   Sometimes  Public_Transportation        Normal_Weight   \n",
      "3                   Sometimes                Walking   Overweight_Level_I   \n",
      "4                   Sometimes  Public_Transportation  Overweight_Level_II   \n",
      "5                   Sometimes             Automobile        Normal_Weight   \n",
      "6                   Sometimes              Motorbike        Normal_Weight   \n",
      "7                   Sometimes  Public_Transportation        Normal_Weight   \n",
      "8                   Sometimes  Public_Transportation        Normal_Weight   \n",
      "9                   Sometimes  Public_Transportation        Normal_Weight   \n",
      "\n",
      "   Bmi_index  \n",
      "0  24.386526  \n",
      "1  24.238227  \n",
      "2  23.765432  \n",
      "3  26.851852  \n",
      "4  28.342381  \n",
      "5  20.195092  \n",
      "6  24.444444  \n",
      "7  19.705532  \n",
      "8  20.199470  \n",
      "9  22.985398  \n",
      "Index(['Age', 'Gender', 'Alcohol_consumption',\n",
      "       'High_calories_foodconsumption_frequency',\n",
      "       'Vegetable_consumption_frequency', 'Avg_no_of_meals',\n",
      "       'Calorie_consumption_monitoring', 'Smoking_habits', 'Water_consumption',\n",
      "       'Family_history', 'Physical_activity', 'Mobile_screentime',\n",
      "       'Food_consumed_between_meals', 'Transpotation', 'obesity_level',\n",
      "       'Bmi_index'],\n",
      "      dtype='object')\n"
     ]
    }
   ],
   "source": [
    "obesity_data = pd.read_csv(\"/Users/vivekkumar/Desktop/project/obesity_final.csv\")\n",
    "\n",
    "print(obesity_data.head(10))\n"
   ]
  },
  {
   "cell_type": "code",
   "execution_count": 4,
   "id": "f88589bb",
   "metadata": {},
   "outputs": [
    {
     "name": "stdout",
     "output_type": "stream",
     "text": [
      "Index(['Age', 'Gender', 'Alcohol_consumption',\n",
      "       'High_calories_foodconsumption_frequency',\n",
      "       'Vegetable_consumption_frequency', 'Avg_no_of_meals',\n",
      "       'Calorie_consumption_monitoring', 'Smoking_habits', 'Water_consumption',\n",
      "       'Family_history', 'Physical_activity', 'Mobile_screentime',\n",
      "       'Food_consumed_between_meals', 'Transpotation', 'obesity_level',\n",
      "       'Bmi_index'],\n",
      "      dtype='object')\n"
     ]
    }
   ],
   "source": [
    "print(obesity_data.columns)"
   ]
  },
  {
   "cell_type": "markdown",
   "id": "6773a39e",
   "metadata": {},
   "source": [
    "Can smoking and alcohol habits predict whether someone is likely to be obese? "
   ]
  },
  {
   "cell_type": "code",
   "execution_count": null,
   "id": "a018ad19",
   "metadata": {},
   "outputs": [
    {
     "name": "stdout",
     "output_type": "stream",
     "text": [
      "Collecting scikit-learn\n",
      "  Downloading scikit_learn-1.6.1-cp311-cp311-macosx_12_0_arm64.whl.metadata (31 kB)\n",
      "Requirement already satisfied: numpy>=1.19.5 in /Library/Frameworks/Python.framework/Versions/3.11/lib/python3.11/site-packages (from scikit-learn) (1.24.3)\n",
      "Collecting scipy>=1.6.0 (from scikit-learn)\n",
      "  Downloading scipy-1.15.2-cp311-cp311-macosx_14_0_arm64.whl.metadata (61 kB)\n",
      "\u001b[2K     \u001b[90m━━━━━━━━━━━━━━━━━━━━━━━━━━━━━━━━━━━━━━━━\u001b[0m \u001b[32m62.0/62.0 kB\u001b[0m \u001b[31m5.0 MB/s\u001b[0m eta \u001b[36m0:00:00\u001b[0m\n",
      "\u001b[?25hCollecting joblib>=1.2.0 (from scikit-learn)\n",
      "  Using cached joblib-1.4.2-py3-none-any.whl.metadata (5.4 kB)\n",
      "Collecting threadpoolctl>=3.1.0 (from scikit-learn)\n",
      "  Downloading threadpoolctl-3.6.0-py3-none-any.whl.metadata (13 kB)\n",
      "Downloading scikit_learn-1.6.1-cp311-cp311-macosx_12_0_arm64.whl (11.1 MB)\n",
      "\u001b[2K   \u001b[90m━━━━━━━━━━━━━━━━━━━━━━━━━━━━━━━━━━━━━━━━\u001b[0m \u001b[32m11.1/11.1 MB\u001b[0m \u001b[31m44.6 MB/s\u001b[0m eta \u001b[36m0:00:00\u001b[0m00:01\u001b[0m0:01\u001b[0m\n",
      "\u001b[?25hUsing cached joblib-1.4.2-py3-none-any.whl (301 kB)\n",
      "Downloading scipy-1.15.2-cp311-cp311-macosx_14_0_arm64.whl (22.4 MB)\n",
      "\u001b[2K   \u001b[90m━━━━━━━━━━━━━━━━━━━━━━━━━━━━━━━━━━━━━━━━\u001b[0m \u001b[32m22.4/22.4 MB\u001b[0m \u001b[31m32.4 MB/s\u001b[0m eta \u001b[36m0:00:00\u001b[0m00:01\u001b[0m00:01\u001b[0m\n",
      "\u001b[?25hDownloading threadpoolctl-3.6.0-py3-none-any.whl (18 kB)\n",
      "Installing collected packages: threadpoolctl, scipy, joblib, scikit-learn\n",
      "Successfully installed joblib-1.4.2 scikit-learn-1.6.1 scipy-1.15.2 threadpoolctl-3.6.0\n",
      "\n",
      "\u001b[1m[\u001b[0m\u001b[34;49mnotice\u001b[0m\u001b[1;39;49m]\u001b[0m\u001b[39;49m A new release of pip is available: \u001b[0m\u001b[31;49m24.0\u001b[0m\u001b[39;49m -> \u001b[0m\u001b[32;49m25.0.1\u001b[0m\n",
      "\u001b[1m[\u001b[0m\u001b[34;49mnotice\u001b[0m\u001b[1;39;49m]\u001b[0m\u001b[39;49m To update, run: \u001b[0m\u001b[32;49mpip3 install --upgrade pip\u001b[0m\n",
      "Note: you may need to restart the kernel to use updated packages.\n"
     ]
    }
   ],
   "source": [
    "%pip install scikit-learn\n"
   ]
  },
  {
   "cell_type": "code",
   "execution_count": null,
   "id": "81cfca03",
   "metadata": {},
   "outputs": [],
   "source": [
    "from sklearn.ensemble import RandomForestClassifier\n",
    "from sklearn.model_selection import train_test_split\n",
    "from sklearn.metrics import accuracy_score\n",
    "\n"
   ]
  },
  {
   "cell_type": "code",
   "execution_count": null,
   "id": "47874823",
   "metadata": {},
   "outputs": [
    {
     "name": "stdout",
     "output_type": "stream",
     "text": [
      "Mean Squared Error: 3.71\n",
      "R² Score: 0.01\n"
     ]
    }
   ],
   "source": [
    "from sklearn.preprocessing import LabelEncoder\n",
    "from sklearn.model_selection import train_test_split\n",
    "from sklearn.linear_model import LinearRegression\n",
    "from sklearn.metrics import mean_squared_error, r2_score\n",
    "\n",
    "X = obesity_data[['Smoking_habits', 'Alcohol_consumption']]\n",
    "X = X.apply(LabelEncoder().fit_transform)\n",
    "\n",
    "y = obesity_data['obesity_level']\n",
    "y = LabelEncoder().fit_transform(y)  # Only if it's categorical and you want to force numeric regression\n",
    "\n",
    "\n",
    "X_train, X_test, y_train, y_test = train_test_split(X, y, test_size=0.2, random_state=42)\n",
    "\n",
    "model = LinearRegression()\n",
    "model.fit(X_train, y_train)\n",
    "\n",
    "y_pred = model.predict(X_test)\n",
    "\n",
    "mse = mean_squared_error(y_test, y_pred)\n",
    "r2 = r2_score(y_test, y_pred)\n",
    "print(f\"Mean Squared Error: {mse:.2f}\")\n",
    "print(f\"R² Score: {r2:.2f}\")\n"
   ]
  },
  {
   "cell_type": "code",
   "execution_count": null,
   "id": "2970faed",
   "metadata": {},
   "outputs": [
    {
     "name": "stdout",
     "output_type": "stream",
     "text": [
      "Classification Report:\n",
      "              precision    recall  f1-score   support\n",
      "\n",
      "           0       0.00      0.00      0.00        59\n",
      "           1       0.00      0.00      0.00        61\n",
      "           2       0.24      0.47      0.32        70\n",
      "           3       0.60      0.09      0.16        64\n",
      "           4       0.23      1.00      0.38        60\n",
      "           5       0.00      0.00      0.00        55\n",
      "           6       0.13      0.04      0.06        49\n",
      "\n",
      "    accuracy                           0.24       418\n",
      "   macro avg       0.17      0.23      0.13       418\n",
      "weighted avg       0.18      0.24      0.14       418\n",
      "\n",
      "\n",
      "Confusion Matrix:\n",
      "[[ 0  0 27  1 30  0  1]\n",
      " [ 0  0 24  2 31  0  4]\n",
      " [ 0  0 33  0 33  0  4]\n",
      " [ 0  0 12  6 45  0  1]\n",
      " [ 0  0  0  0 60  0  0]\n",
      " [ 0  0 15  0 37  0  3]\n",
      " [ 0  0 25  1 21  0  2]]\n",
      "Accuracy Score: 0.24162679425837322\n"
     ]
    },
    {
     "name": "stderr",
     "output_type": "stream",
     "text": [
      "/Library/Frameworks/Python.framework/Versions/3.11/lib/python3.11/site-packages/sklearn/metrics/_classification.py:1565: UndefinedMetricWarning: Precision is ill-defined and being set to 0.0 in labels with no predicted samples. Use `zero_division` parameter to control this behavior.\n",
      "  _warn_prf(average, modifier, f\"{metric.capitalize()} is\", len(result))\n",
      "/Library/Frameworks/Python.framework/Versions/3.11/lib/python3.11/site-packages/sklearn/metrics/_classification.py:1565: UndefinedMetricWarning: Precision is ill-defined and being set to 0.0 in labels with no predicted samples. Use `zero_division` parameter to control this behavior.\n",
      "  _warn_prf(average, modifier, f\"{metric.capitalize()} is\", len(result))\n",
      "/Library/Frameworks/Python.framework/Versions/3.11/lib/python3.11/site-packages/sklearn/metrics/_classification.py:1565: UndefinedMetricWarning: Precision is ill-defined and being set to 0.0 in labels with no predicted samples. Use `zero_division` parameter to control this behavior.\n",
      "  _warn_prf(average, modifier, f\"{metric.capitalize()} is\", len(result))\n"
     ]
    }
   ],
   "source": [
    "import pandas as pd\n",
    "from sklearn.model_selection import train_test_split\n",
    "from sklearn.preprocessing import LabelEncoder\n",
    "from sklearn.ensemble import RandomForestClassifier\n",
    "from sklearn.metrics import classification_report, confusion_matrix\n",
    "X = obesity_data[['Smoking_habits', 'Alcohol_consumption']]\n",
    "X = X.apply(LabelEncoder().fit_transform)\n",
    "\n",
    "y = obesity_data['obesity_level']\n",
    "y = LabelEncoder().fit_transform(y) \n",
    "\n",
    "\n",
    "\n",
    "X_train, X_test, y_train, y_test = train_test_split(X, y, test_size=0.2, random_state=42)\n",
    "\n",
    "rf_model = RandomForestClassifier(n_estimators=100, random_state=42)\n",
    "rf_model.fit(X_train, y_train)\n",
    "\n",
    "y_pred = rf_model.predict(X_test)\n",
    "\n",
    "print(\"Classification Report:\") \n",
    "print(classification_report(y_test, y_pred))\n",
    "\n",
    "print(\"\\nConfusion Matrix:\")\n",
    "print(confusion_matrix(y_test, y_pred))\n",
    "\n",
    "print(\"Accuracy Score:\", accuracy_score(y_test, y_pred))\n"
   ]
  }
 ],
 "metadata": {
  "kernelspec": {
   "display_name": "Python 3",
   "language": "python",
   "name": "python3"
  },
  "language_info": {
   "codemirror_mode": {
    "name": "ipython",
    "version": 3
   },
   "file_extension": ".py",
   "mimetype": "text/x-python",
   "name": "python",
   "nbconvert_exporter": "python",
   "pygments_lexer": "ipython3",
   "version": "3.11.3"
  }
 },
 "nbformat": 4,
 "nbformat_minor": 5
}
